{
 "cells": [
  {
   "cell_type": "markdown",
   "id": "9fe570ec-9aef-4ac1-a900-26063451e699",
   "metadata": {},
   "source": [
    "# Download optica (BGC) and physical (PHYS) analysis products from CMEMS"
   ]
  },
  {
   "cell_type": "markdown",
   "id": "ed391df9-e1ad-4a8e-b304-fd96c19c241f",
   "metadata": {},
   "source": [
    "**Last updated: 22/12/2024**"
   ]
  },
  {
   "cell_type": "markdown",
   "id": "895709ad-dd1e-42da-a2ab-1999d5c0c7b6",
   "metadata": {},
   "source": [
    "## Import libraries and define paths"
   ]
  },
  {
   "cell_type": "code",
   "execution_count": null,
   "id": "94f8d881-8fde-44c0-b26c-574d9e696bbb",
   "metadata": {},
   "outputs": [],
   "source": [
    "\n",
    "import os \n",
    "from pathlib import Path\n",
    "import copernicusmarine\n",
    "from datetime import datetime\n",
    "\n",
    "# Path to download directory\n",
    "PATH_ROOT_DIR = Path.cwd().resolve().parents[0] # /absolute/path/to/two/levels/up\n",
    "full_path_download_dir = os.path.join(PATH_ROOT_DIR,\"data\",\"raw\",\"CMEMS\")\n",
    "os.makedirs(full_path_download_dir, exist_ok=True)\n",
    "Set the download parameters\n",
    "\n",
    "# =====================================================\n",
    "# List of datasets\n",
    "# =====================================================\n",
    "​\n",
    "LIST_DATASET_IDS = [\n",
    "​\n",
    "# Global Ocean Colour (Copernicus-GlobColour), Bio-Geo-Chemical, L4 (monthly and interpolated) from Satellite Observations (1997-ongoing), 4 x 4 km, monthly (1997-2024)\n",
    "# Product ID: OCEANCOLOUR_GLO_BGC_L4_MY_009_104\n",
    "    \"cmems_obs-oc_glo_bgc-plankton_my_l4-multi-4km_P1M\",        # Chlorophyll (mg m-3)\n",
    "    \"cmems_obs-oc_glo_bgc-pp_my_l4-multi-4km_P1M\",              # NPP (mg C m-2 d-1)\n",
    "    \"cmems_obs-oc_glo_bgc-transp_my_l4-multi-4km_P1M\",          # kd (m-1)\n",
    "    \n",
    "# Global Ocean Physics Reanalysis, 0.083° × 0.083°, monthly climatology (1993-2016)\n",
    "# Product ID: GLOBAL_MULTIYEAR_PHY_001_030\n",
    "    \"cmems_mod_glo_phy_my_0.083deg-climatology_P1M-m\"           # MLD (m) (defined using sigma theta), sea ice fraction, temperature\n",
    "]\n",
    "​\n",
    "# ===============================================================================\n",
    "# List of output file names (should correspond to the variable names listed below)\n",
    "# ===============================================================================\n",
    "​\n",
    "LIST_OUTPUT_NAMES = [\n",
    "    \"mod_bgc_glo_chla\",\n",
    "    \"mod_bgc_glo_npp\",\n",
    "    \"mod_bgc_glo_kd\",\n",
    "    \"mod_phys_glo_mld\",\n",
    "    \"mod_phys_glo_icefrac\",\n",
    "    \"mod_phys_glo_temp\"\n",
    "]\n",
    " \n",
    "# ===============================================================================\n",
    "# List of variable names to download\n",
    "# ===============================================================================\n",
    "​\n",
    "LIST_VARIABLES = [\n",
    "    \"CHL\",\n",
    "    \"PP\",\n",
    "    \"KD490\",\n",
    "    \"mlotst\",\n",
    "    \"siconc\",\n",
    "    \"thetao\"\n",
    "]\n",
    "​\n",
    "#\"PP_uncertainty\",\n",
    "#\"KD490_uncertainty\","
   ]
  }
 ],
 "metadata": {
  "kernelspec": {
   "display_name": "",
   "name": ""
  },
  "language_info": {
   "name": ""
  }
 },
 "nbformat": 4,
 "nbformat_minor": 5
}
